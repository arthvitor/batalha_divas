{
 "cells": [
  {
   "cell_type": "markdown",
   "metadata": {},
   "source": [
    "# Captura de dados - Batalha de Música\n",
    "Etapa de captura de dados e estruturação para a Análise Exploratória"
   ]
  },
  {
   "cell_type": "markdown",
   "metadata": {},
   "source": [
    "## Etapa 1: Instalando e importando bibliotecas"
   ]
  },
  {
   "cell_type": "code",
   "execution_count": null,
   "metadata": {},
   "outputs": [],
   "source": [
    "# Instalando bibliotecas\n",
    "! pip3 install spotipy\n",
    "! pip3 install pandas"
   ]
  },
  {
   "cell_type": "code",
   "execution_count": 10,
   "metadata": {},
   "outputs": [],
   "source": [
    "# Importando bibliotecas\n",
    "import spotipy as sp\n",
    "import pandas as pd\n",
    "from spotipy.oauth2 import SpotifyClientCredentials\n",
    "import os"
   ]
  },
  {
   "cell_type": "markdown",
   "metadata": {},
   "source": [
    "## Etapa 2: Autenticação da API e requisição"
   ]
  },
  {
   "cell_type": "code",
   "execution_count": 20,
   "metadata": {},
   "outputs": [],
   "source": [
    "# Recebendo variáveis de ambiente com chave e segredo da API\n",
    "CLIENT_ID_SPOTIFY = os.environ.get('CLIENT_ID_SPOTIFY')\n",
    "CLIENT_SECRET_SPOTIFY = os.environ.get('CLIENT_SECRET_SPOTIFY')"
   ]
  },
  {
   "cell_type": "code",
   "execution_count": 21,
   "metadata": {},
   "outputs": [],
   "source": [
    "# Autenticando credenciais\n",
    "spotify = sp.Spotify(client_credentials_manager=SpotifyClientCredentials(client_id=CLIENT_ID_SPOTIFY, client_secret=CLIENT_SECRET_SPOTIFY))\n",
    "\n",
    "# Id da Beyoncé e Taylor Swift no Spotify\n",
    "ids = ['6vWDO969PvNqNYHIOW5v0m', #Bey\n",
    "       '06HL4z0CvFAxyc27GXpf02', #Taylor Swift\n",
    "       ]\n",
    "\n",
    "# DataFrame vazio para armazenar as informações das faixas\n",
    "df_list = []"
   ]
  },
  {
   "cell_type": "code",
   "execution_count": null,
   "metadata": {},
   "outputs": [],
   "source": [
    "# Realizando requisições no Spotify\n",
    "for artist_id in ids:\n",
    "    # Obter o nome do artista\n",
    "    artist_info = spotify.artist(artist_id)\n",
    "    artist_name = artist_info['name']\n",
    "    artist_image_url = artist_info['images'][0]['url'] if artist_info['images'] else None  # Pega a primeira imagem, se disponível\n",
    "\n",
    "    # Obter os álbuns do artista usando a API do Spotify\n",
    "    albums = spotify.artist_albums(artist_id, album_type='album,single', country='BR', limit=50)\n",
    "\n",
    "    # Processar cada álbum e obter todas as faixas únicas\n",
    "    for album in albums['items']:\n",
    "        album_tracks = spotify.album_tracks(album['id'])\n",
    "\n",
    "        for track in album_tracks['items']:\n",
    "            track_id = track['id']\n",
    "            track_info = spotify.track(track_id)\n",
    "            audio_features = spotify.audio_features(track_id)[0]\n",
    "            audio_analysis = spotify.audio_analysis(track_id)\n",
    "\n",
    "            track_name = track_info['name']\n",
    "            duration_ms = audio_features['duration_ms']\n",
    "            energy = audio_features['energy']\n",
    "            tempo = audio_features['tempo']\n",
    "            loudness = audio_features['loudness']\n",
    "            release_date = track_info['album']['release_date']\n",
    "            album_name = track_info['album']['name']\n",
    "            album_type = track_info['album']['type']\n",
    "            popularity = track_info['popularity']\n",
    "            \n",
    "            #Novo para Vini\n",
    "            acousticness = audio_features['acousticness']\n",
    "            danceability = audio_features['danceability']\n",
    "            instrumentalness = audio_features['instrumentalness']\n",
    "            liveness = audio_features['liveness']\n",
    "            speechiness = audio_features['speechiness']\n",
    "            valence = audio_features['valence']\n",
    "\n",
    "            # Extração de informações do objeto 'track' em 'audio_analysis'\n",
    "            num_samples = audio_analysis['track']['num_samples']\n",
    "            duration = audio_analysis['track']['duration']\n",
    "            loudness_analysis = audio_analysis['track']['loudness']\n",
    "            tempo_analysis = audio_analysis['track']['tempo']\n",
    "\n",
    "            track_data = {\n",
    "                'Artist': artist_name,\n",
    "                'ArtistImageURL': artist_image_url,\n",
    "                'Track': track_name,\n",
    "                'Popularity': popularity,\n",
    "                'Duration_ms': duration_ms,\n",
    "                'Album Name': album_name,\n",
    "                'Album Type': album_type,\n",
    "                'acousticness': acousticness,\n",
    "                'danceability': danceability,\n",
    "                'instrumentalness': instrumentalness,\n",
    "                'liveness': liveness,\n",
    "                'speechiness': speechiness,\n",
    "                'valence': valence,\n",
    "                'Energia': energy,\n",
    "                'Tempo': tempo,\n",
    "                'Loudness': loudness,\n",
    "                'Num_samples': num_samples,\n",
    "                'Duration_analysis': duration,\n",
    "                'Loudness_analysis': loudness_analysis,\n",
    "                'Tempo_analysis': tempo_analysis,\n",
    "                'Release_date_precision': release_date,\n",
    "                'Id': track_id\n",
    "            }\n",
    "\n",
    "            df_list.append(track_data)\n",
    "\n",
    "# Criar o DataFrame\n",
    "df = pd.DataFrame(df_list)\n",
    "df.head()"
   ]
  },
  {
   "cell_type": "markdown",
   "metadata": {},
   "source": [
    "## Etapa 3: Exportando arquivo"
   ]
  },
  {
   "cell_type": "code",
   "execution_count": null,
   "metadata": {},
   "outputs": [],
   "source": [
    "# Exportando arquivo para análise\n",
    "df.to_csv('/content/sample_data/bey_tay_2023_09_13.csv', index=False)"
   ]
  }
 ],
 "metadata": {
  "kernelspec": {
   "display_name": "base",
   "language": "python",
   "name": "python3"
  },
  "language_info": {
   "codemirror_mode": {
    "name": "ipython",
    "version": 3
   },
   "file_extension": ".py",
   "mimetype": "text/x-python",
   "name": "python",
   "nbconvert_exporter": "python",
   "pygments_lexer": "ipython3",
   "version": "3.11.4"
  }
 },
 "nbformat": 4,
 "nbformat_minor": 2
}
